{
 "cells": [
  {
   "cell_type": "code",
   "execution_count": 2,
   "id": "7d496e5d-23fe-475c-a0d3-b96f9343e621",
   "metadata": {},
   "outputs": [],
   "source": [
    "import polars as pl"
   ]
  },
  {
   "cell_type": "markdown",
   "id": "dc070a79-e280-47c1-9865-a71f1311a29c",
   "metadata": {},
   "source": [
    "# Salary"
   ]
  },
  {
   "cell_type": "code",
   "execution_count": 3,
   "id": "5b51e39c-953b-4e23-afef-9b8e6d92be02",
   "metadata": {},
   "outputs": [
    {
     "data": {
      "text/html": [
       "<div><style>\n",
       ".dataframe > thead > tr,\n",
       ".dataframe > tbody > tr {\n",
       "  text-align: right;\n",
       "  white-space: pre-wrap;\n",
       "}\n",
       "</style>\n",
       "<small>shape: (5, 3)</small><table border=\"1\" class=\"dataframe\"><thead><tr><th>playerID</th><th>yearID</th><th>salary</th></tr><tr><td>str</td><td>i64</td><td>i64</td></tr></thead><tbody><tr><td>&quot;gutiefr01&quot;</td><td>2013</td><td>7312500</td></tr><tr><td>&quot;lagarju01&quot;</td><td>2016</td><td>2500000</td></tr><tr><td>&quot;strasst01&quot;</td><td>2012</td><td>4875000</td></tr><tr><td>&quot;strasst01&quot;</td><td>2015</td><td>7400000</td></tr><tr><td>&quot;thornma01&quot;</td><td>2013</td><td>5500000</td></tr></tbody></table></div>"
      ],
      "text/plain": [
       "shape: (5, 3)\n",
       "┌───────────┬────────┬─────────┐\n",
       "│ playerID  ┆ yearID ┆ salary  │\n",
       "│ ---       ┆ ---    ┆ ---     │\n",
       "│ str       ┆ i64    ┆ i64     │\n",
       "╞═══════════╪════════╪═════════╡\n",
       "│ gutiefr01 ┆ 2013   ┆ 7312500 │\n",
       "│ lagarju01 ┆ 2016   ┆ 2500000 │\n",
       "│ strasst01 ┆ 2012   ┆ 4875000 │\n",
       "│ strasst01 ┆ 2015   ┆ 7400000 │\n",
       "│ thornma01 ┆ 2013   ┆ 5500000 │\n",
       "└───────────┴────────┴─────────┘"
      ]
     },
     "execution_count": 3,
     "metadata": {},
     "output_type": "execute_result"
    }
   ],
   "source": [
    "salary = pl.read_csv('./Data/lahman_1871-2023_csv/lahman_1871-2023_csv/Salaries.csv')\n",
    "\n",
    "salary = (salary\n",
    "          .filter(pl.col('yearID') >= 2006)\n",
    "          .group_by(pl.col('playerID'), pl.col('yearID'))\n",
    "          .agg(pl.col('salary').sum())\n",
    "         )\n",
    "\n",
    "salary.head(5)"
   ]
  },
  {
   "cell_type": "markdown",
   "id": "f0868fe9-330e-4e0b-912d-2ce3650e5592",
   "metadata": {},
   "source": [
    "# Batting"
   ]
  },
  {
   "cell_type": "code",
   "execution_count": 4,
   "id": "dc63a016-bb99-4e09-835e-57b221853660",
   "metadata": {
    "scrolled": true
   },
   "outputs": [
    {
     "data": {
      "text/html": [
       "<div><style>\n",
       ".dataframe > thead > tr,\n",
       ".dataframe > tbody > tr {\n",
       "  text-align: right;\n",
       "  white-space: pre-wrap;\n",
       "}\n",
       "</style>\n",
       "<small>shape: (5, 22)</small><table border=\"1\" class=\"dataframe\"><thead><tr><th>playerID</th><th>yearID</th><th>stint</th><th>G</th><th>G_batting</th><th>AB</th><th>R</th><th>H</th><th>2B</th><th>3B</th><th>HR</th><th>RBI</th><th>SB</th><th>CS</th><th>BB</th><th>SO</th><th>IBB</th><th>HBP</th><th>SH</th><th>SF</th><th>GIDP</th><th>G_old</th></tr><tr><td>str</td><td>i64</td><td>i64</td><td>i64</td><td>i64</td><td>i64</td><td>i64</td><td>i64</td><td>i64</td><td>i64</td><td>i64</td><td>i64</td><td>i64</td><td>i64</td><td>i64</td><td>i64</td><td>i64</td><td>i64</td><td>i64</td><td>i64</td><td>i64</td><td>i64</td></tr></thead><tbody><tr><td>&quot;aardsda01&quot;</td><td>2006</td><td>1</td><td>45</td><td>0</td><td>2</td><td>0</td><td>0</td><td>0</td><td>0</td><td>0</td><td>0</td><td>0</td><td>0</td><td>0</td><td>0</td><td>0</td><td>0</td><td>1</td><td>0</td><td>0</td><td>0</td></tr><tr><td>&quot;aardsda01&quot;</td><td>2007</td><td>1</td><td>25</td><td>0</td><td>0</td><td>0</td><td>0</td><td>0</td><td>0</td><td>0</td><td>0</td><td>0</td><td>0</td><td>0</td><td>0</td><td>0</td><td>0</td><td>0</td><td>0</td><td>0</td><td>0</td></tr><tr><td>&quot;aardsda01&quot;</td><td>2008</td><td>1</td><td>47</td><td>0</td><td>1</td><td>0</td><td>0</td><td>0</td><td>0</td><td>0</td><td>0</td><td>0</td><td>0</td><td>0</td><td>1</td><td>0</td><td>0</td><td>0</td><td>0</td><td>0</td><td>0</td></tr><tr><td>&quot;aardsda01&quot;</td><td>2009</td><td>1</td><td>73</td><td>0</td><td>0</td><td>0</td><td>0</td><td>0</td><td>0</td><td>0</td><td>0</td><td>0</td><td>0</td><td>0</td><td>0</td><td>0</td><td>0</td><td>0</td><td>0</td><td>0</td><td>0</td></tr><tr><td>&quot;aardsda01&quot;</td><td>2010</td><td>1</td><td>53</td><td>0</td><td>0</td><td>0</td><td>0</td><td>0</td><td>0</td><td>0</td><td>0</td><td>0</td><td>0</td><td>0</td><td>0</td><td>0</td><td>0</td><td>0</td><td>0</td><td>0</td><td>0</td></tr></tbody></table></div>"
      ],
      "text/plain": [
       "shape: (5, 22)\n",
       "┌───────────┬────────┬───────┬─────┬───┬─────┬─────┬──────┬───────┐\n",
       "│ playerID  ┆ yearID ┆ stint ┆ G   ┆ … ┆ SH  ┆ SF  ┆ GIDP ┆ G_old │\n",
       "│ ---       ┆ ---    ┆ ---   ┆ --- ┆   ┆ --- ┆ --- ┆ ---  ┆ ---   │\n",
       "│ str       ┆ i64    ┆ i64   ┆ i64 ┆   ┆ i64 ┆ i64 ┆ i64  ┆ i64   │\n",
       "╞═══════════╪════════╪═══════╪═════╪═══╪═════╪═════╪══════╪═══════╡\n",
       "│ aardsda01 ┆ 2006   ┆ 1     ┆ 45  ┆ … ┆ 1   ┆ 0   ┆ 0    ┆ 0     │\n",
       "│ aardsda01 ┆ 2007   ┆ 1     ┆ 25  ┆ … ┆ 0   ┆ 0   ┆ 0    ┆ 0     │\n",
       "│ aardsda01 ┆ 2008   ┆ 1     ┆ 47  ┆ … ┆ 0   ┆ 0   ┆ 0    ┆ 0     │\n",
       "│ aardsda01 ┆ 2009   ┆ 1     ┆ 73  ┆ … ┆ 0   ┆ 0   ┆ 0    ┆ 0     │\n",
       "│ aardsda01 ┆ 2010   ┆ 1     ┆ 53  ┆ … ┆ 0   ┆ 0   ┆ 0    ┆ 0     │\n",
       "└───────────┴────────┴───────┴─────┴───┴─────┴─────┴──────┴───────┘"
      ]
     },
     "execution_count": 4,
     "metadata": {},
     "output_type": "execute_result"
    }
   ],
   "source": [
    "batting = pl.read_csv('./Data/lahman_1871-2023_csv/lahman_1871-2023_csv/Batting.csv')\n",
    "\n",
    "battingAg = (batting\n",
    "    .select(['yearID', 'playerID', 'stint', 'G', 'G_batting', 'AB', 'R', 'H', '2B', '3B', 'HR', 'RBI', \n",
    "             'SB', 'CS', 'BB', 'SO', 'IBB', 'HBP', 'SH', 'SF', 'GIDP', pl.col(\"G_old\").cast(pl.Int64)])\n",
    "    .filter(pl.col('yearID') >= 2006)\n",
    "    .group_by(['playerID', 'yearID'])\n",
    "    .agg(pl.col('stint').sum(),\n",
    "         pl.col(\"G\").sum(),\n",
    "         pl.col(\"G_batting\").sum(), \n",
    "         pl.col(\"AB\").sum(), \n",
    "         pl.col(\"R\").sum(), \n",
    "         pl.col(\"H\").sum(), \n",
    "         pl.col(\"2B\").sum(),\n",
    "         pl.col(\"3B\").sum(),\n",
    "         pl.col(\"HR\").sum(),\n",
    "         pl.col(\"RBI\").sum(),\n",
    "         pl.col(\"SB\").sum(),\n",
    "         pl.col(\"CS\").sum(),\n",
    "         pl.col(\"BB\").sum(),\n",
    "         pl.col(\"SO\").sum(),\n",
    "         pl.col(\"IBB\").sum(),\n",
    "         pl.col(\"HBP\").sum(),\n",
    "         pl.col(\"SH\").sum(),\n",
    "         pl.col(\"SF\").sum(),\n",
    "         pl.col(\"GIDP\").sum(),\n",
    "         pl.col(\"G_old\").sum())\n",
    "    .sort(pl.col('playerID'), pl.col('yearID'))\n",
    ")\n",
    "\n",
    "battingAg.head()"
   ]
  },
  {
   "cell_type": "markdown",
   "id": "bcb3cfdd-f468-49d7-bc8c-ed8d93612b0b",
   "metadata": {},
   "source": [
    "# Pitching"
   ]
  },
  {
   "cell_type": "code",
   "execution_count": 5,
   "id": "33fe33e4-cb98-4431-ba9b-12a48d566bc6",
   "metadata": {},
   "outputs": [
    {
     "data": {
      "text/html": [
       "<div><style>\n",
       ".dataframe > thead > tr,\n",
       ".dataframe > tbody > tr {\n",
       "  text-align: right;\n",
       "  white-space: pre-wrap;\n",
       "}\n",
       "</style>\n",
       "<small>shape: (5, 27)</small><table border=\"1\" class=\"dataframe\"><thead><tr><th>playerID</th><th>yearID</th><th>W</th><th>L</th><th>G</th><th>GS</th><th>CG</th><th>SHO</th><th>SV</th><th>IPouts</th><th>H</th><th>ER</th><th>HR</th><th>BB</th><th>SO</th><th>BAOpp</th><th>ERA</th><th>IBB</th><th>WP</th><th>HBP</th><th>BK</th><th>BFP</th><th>GF</th><th>R</th><th>SH</th><th>SF</th><th>GIDP</th></tr><tr><td>str</td><td>i64</td><td>i64</td><td>i64</td><td>i64</td><td>i64</td><td>i64</td><td>i64</td><td>i64</td><td>i64</td><td>i64</td><td>i64</td><td>i64</td><td>i64</td><td>i64</td><td>f64</td><td>f64</td><td>i64</td><td>i64</td><td>i64</td><td>i64</td><td>i64</td><td>i64</td><td>i64</td><td>i64</td><td>i64</td><td>i64</td></tr></thead><tbody><tr><td>&quot;aardsda01&quot;</td><td>2006</td><td>3</td><td>0</td><td>45</td><td>0</td><td>0</td><td>0</td><td>0</td><td>159</td><td>41</td><td>24</td><td>9</td><td>28</td><td>49</td><td>0.214</td><td>4.08</td><td>0</td><td>1</td><td>1</td><td>0</td><td>225</td><td>9</td><td>25</td><td>1</td><td>3</td><td>2</td></tr><tr><td>&quot;aardsda01&quot;</td><td>2007</td><td>2</td><td>1</td><td>25</td><td>0</td><td>0</td><td>0</td><td>0</td><td>97</td><td>39</td><td>23</td><td>4</td><td>17</td><td>36</td><td>0.3</td><td>6.4</td><td>3</td><td>2</td><td>1</td><td>0</td><td>151</td><td>7</td><td>24</td><td>2</td><td>1</td><td>1</td></tr><tr><td>&quot;aardsda01&quot;</td><td>2008</td><td>4</td><td>2</td><td>47</td><td>0</td><td>0</td><td>0</td><td>0</td><td>146</td><td>49</td><td>30</td><td>4</td><td>35</td><td>49</td><td>0.268</td><td>5.55</td><td>2</td><td>3</td><td>5</td><td>0</td><td>228</td><td>7</td><td>32</td><td>3</td><td>2</td><td>4</td></tr><tr><td>&quot;aardsda01&quot;</td><td>2009</td><td>3</td><td>6</td><td>73</td><td>0</td><td>0</td><td>0</td><td>38</td><td>214</td><td>49</td><td>20</td><td>4</td><td>34</td><td>80</td><td>0.19</td><td>2.52</td><td>3</td><td>2</td><td>0</td><td>0</td><td>296</td><td>53</td><td>23</td><td>2</td><td>1</td><td>2</td></tr><tr><td>&quot;aardsda01&quot;</td><td>2010</td><td>0</td><td>6</td><td>53</td><td>0</td><td>0</td><td>0</td><td>31</td><td>149</td><td>33</td><td>19</td><td>5</td><td>25</td><td>49</td><td>0.198</td><td>3.44</td><td>5</td><td>2</td><td>2</td><td>0</td><td>202</td><td>43</td><td>19</td><td>7</td><td>1</td><td>5</td></tr></tbody></table></div>"
      ],
      "text/plain": [
       "shape: (5, 27)\n",
       "┌───────────┬────────┬─────┬─────┬───┬─────┬─────┬─────┬──────┐\n",
       "│ playerID  ┆ yearID ┆ W   ┆ L   ┆ … ┆ R   ┆ SH  ┆ SF  ┆ GIDP │\n",
       "│ ---       ┆ ---    ┆ --- ┆ --- ┆   ┆ --- ┆ --- ┆ --- ┆ ---  │\n",
       "│ str       ┆ i64    ┆ i64 ┆ i64 ┆   ┆ i64 ┆ i64 ┆ i64 ┆ i64  │\n",
       "╞═══════════╪════════╪═════╪═════╪═══╪═════╪═════╪═════╪══════╡\n",
       "│ aardsda01 ┆ 2006   ┆ 3   ┆ 0   ┆ … ┆ 25  ┆ 1   ┆ 3   ┆ 2    │\n",
       "│ aardsda01 ┆ 2007   ┆ 2   ┆ 1   ┆ … ┆ 24  ┆ 2   ┆ 1   ┆ 1    │\n",
       "│ aardsda01 ┆ 2008   ┆ 4   ┆ 2   ┆ … ┆ 32  ┆ 3   ┆ 2   ┆ 4    │\n",
       "│ aardsda01 ┆ 2009   ┆ 3   ┆ 6   ┆ … ┆ 23  ┆ 2   ┆ 1   ┆ 2    │\n",
       "│ aardsda01 ┆ 2010   ┆ 0   ┆ 6   ┆ … ┆ 19  ┆ 7   ┆ 1   ┆ 5    │\n",
       "└───────────┴────────┴─────┴─────┴───┴─────┴─────┴─────┴──────┘"
      ]
     },
     "execution_count": 5,
     "metadata": {},
     "output_type": "execute_result"
    }
   ],
   "source": [
    "pitching = pl.read_csv('./Data/lahman_1871-2023_csv/lahman_1871-2023_csv/Pitching.csv')\n",
    "\n",
    "pitchingAg = (\n",
    "    pitching\n",
    "    .filter(pl.col('yearID') >= 2006)\n",
    "    .group_by(['playerID', 'yearID'])\n",
    "    .agg(pl.col(\"W\").sum(), \n",
    "         pl.col(\"L\").sum(), \n",
    "         pl.col(\"G\").sum(), \n",
    "         pl.col(\"GS\").sum(), \n",
    "         pl.col(\"CG\").sum(), \n",
    "         pl.col(\"SHO\").sum(),\n",
    "         pl.col(\"SV\").sum(),\n",
    "         pl.col(\"IPouts\").sum(),\n",
    "         pl.col(\"H\").sum(),\n",
    "         pl.col(\"ER\").sum(),\n",
    "         pl.col(\"HR\").sum(),\n",
    "         pl.col(\"BB\").sum(),\n",
    "         pl.col(\"SO\").sum(), \n",
    "         pl.col(\"BAOpp\").sum(), \n",
    "         pl.col(\"ERA\").sum(),\n",
    "         pl.col(\"IBB\").sum(),\n",
    "         pl.col(\"WP\").sum(),\n",
    "         pl.col(\"HBP\").sum(),\n",
    "         pl.col(\"BK\").sum(),\n",
    "         pl.col(\"BFP\").sum(),\n",
    "         pl.col(\"GF\").sum(),\n",
    "         pl.col(\"R\").sum(), \n",
    "         pl.col(\"SH\").sum(), \n",
    "         pl.col(\"SF\").sum(),\n",
    "         pl.col(\"GIDP\").sum())\n",
    "    .sort(pl.col('playerID'), pl.col('yearID'))\n",
    ")\n",
    "\n",
    "pitchingAg.head(5)"
   ]
  },
  {
   "cell_type": "markdown",
   "id": "3836aea1-b082-4fb8-84c3-fa19d2267533",
   "metadata": {},
   "source": [
    "# Fielding"
   ]
  },
  {
   "cell_type": "code",
   "execution_count": 8,
   "id": "6c9556ba-0e32-4ff5-979b-a7cb019d5cb8",
   "metadata": {},
   "outputs": [
    {
     "data": {
      "text/html": [
       "<div><style>\n",
       ".dataframe > thead > tr,\n",
       ".dataframe > tbody > tr {\n",
       "  text-align: right;\n",
       "  white-space: pre-wrap;\n",
       "}\n",
       "</style>\n",
       "<small>shape: (5, 14)</small><table border=\"1\" class=\"dataframe\"><thead><tr><th>playerID</th><th>yearID</th><th>G</th><th>GS</th><th>InnOuts</th><th>PO</th><th>A</th><th>E</th><th>DP</th><th>PB</th><th>WP</th><th>SB</th><th>CS</th><th>ZR</th></tr><tr><td>str</td><td>i64</td><td>i64</td><td>i64</td><td>i64</td><td>i64</td><td>i64</td><td>i64</td><td>i64</td><td>i64</td><td>i64</td><td>i64</td><td>i64</td><td>i64</td></tr></thead><tbody><tr><td>&quot;aardsda01&quot;</td><td>2006</td><td>45</td><td>0</td><td>159</td><td>1</td><td>5</td><td>0</td><td>1</td><td>0</td><td>0</td><td>0</td><td>0</td><td>0</td></tr><tr><td>&quot;aardsda01&quot;</td><td>2007</td><td>25</td><td>0</td><td>97</td><td>2</td><td>4</td><td>1</td><td>0</td><td>0</td><td>0</td><td>0</td><td>0</td><td>0</td></tr><tr><td>&quot;aardsda01&quot;</td><td>2008</td><td>47</td><td>0</td><td>146</td><td>3</td><td>6</td><td>0</td><td>0</td><td>0</td><td>0</td><td>0</td><td>0</td><td>0</td></tr><tr><td>&quot;aardsda01&quot;</td><td>2009</td><td>73</td><td>0</td><td>214</td><td>2</td><td>5</td><td>0</td><td>1</td><td>0</td><td>0</td><td>0</td><td>0</td><td>0</td></tr><tr><td>&quot;aardsda01&quot;</td><td>2010</td><td>53</td><td>0</td><td>149</td><td>2</td><td>3</td><td>1</td><td>0</td><td>0</td><td>0</td><td>0</td><td>0</td><td>0</td></tr></tbody></table></div>"
      ],
      "text/plain": [
       "shape: (5, 14)\n",
       "┌───────────┬────────┬─────┬─────┬───┬─────┬─────┬─────┬─────┐\n",
       "│ playerID  ┆ yearID ┆ G   ┆ GS  ┆ … ┆ WP  ┆ SB  ┆ CS  ┆ ZR  │\n",
       "│ ---       ┆ ---    ┆ --- ┆ --- ┆   ┆ --- ┆ --- ┆ --- ┆ --- │\n",
       "│ str       ┆ i64    ┆ i64 ┆ i64 ┆   ┆ i64 ┆ i64 ┆ i64 ┆ i64 │\n",
       "╞═══════════╪════════╪═════╪═════╪═══╪═════╪═════╪═════╪═════╡\n",
       "│ aardsda01 ┆ 2006   ┆ 45  ┆ 0   ┆ … ┆ 0   ┆ 0   ┆ 0   ┆ 0   │\n",
       "│ aardsda01 ┆ 2007   ┆ 25  ┆ 0   ┆ … ┆ 0   ┆ 0   ┆ 0   ┆ 0   │\n",
       "│ aardsda01 ┆ 2008   ┆ 47  ┆ 0   ┆ … ┆ 0   ┆ 0   ┆ 0   ┆ 0   │\n",
       "│ aardsda01 ┆ 2009   ┆ 73  ┆ 0   ┆ … ┆ 0   ┆ 0   ┆ 0   ┆ 0   │\n",
       "│ aardsda01 ┆ 2010   ┆ 53  ┆ 0   ┆ … ┆ 0   ┆ 0   ┆ 0   ┆ 0   │\n",
       "└───────────┴────────┴─────┴─────┴───┴─────┴─────┴─────┴─────┘"
      ]
     },
     "execution_count": 8,
     "metadata": {},
     "output_type": "execute_result"
    }
   ],
   "source": [
    "fielding = pl.read_csv('./Data/lahman_1871-2023_csv/lahman_1871-2023_csv/Fielding.csv')\n",
    "\n",
    "fieldingAg = (\n",
    "    fielding\n",
    "    .select(['yearID', 'playerID', 'G', 'GS', 'InnOuts', 'PO', 'A', 'E', 'DP', pl.col(\"PB\").cast(pl.Int64), \n",
    "             pl.col(\"WP\").cast(pl.Int64), pl.col(\"SB\").cast(pl.Int64), pl.col(\"CS\").cast(pl.Int64), pl.col(\"ZR\").cast(pl.Int64)])\n",
    "    .filter(pl.col('yearID') >= 2006)\n",
    "    .group_by(['playerID', 'yearID'])\n",
    "    .agg(pl.col(\"G\").sum(), \n",
    "         pl.col(\"GS\").sum(), \n",
    "         pl.col(\"InnOuts\").sum(), \n",
    "         pl.col(\"PO\").sum(), \n",
    "         pl.col(\"A\").sum(), \n",
    "         pl.col(\"E\").sum(),\n",
    "         pl.col(\"DP\").sum(),\n",
    "         pl.col(\"PB\").sum(),\n",
    "         pl.col(\"WP\").sum(),\n",
    "         pl.col(\"SB\").sum(),\n",
    "         pl.col(\"CS\").sum(),\n",
    "         pl.col(\"ZR\").sum())\n",
    "    .sort(pl.col('playerID'), pl.col('yearID'))\n",
    ")\n",
    "\n",
    "fieldingAg.head(5)"
   ]
  },
  {
   "cell_type": "markdown",
   "id": "1070dffe-e876-4fe5-a1ac-fbcc567001ab",
   "metadata": {},
   "source": [
    "# Joins"
   ]
  },
  {
   "cell_type": "code",
   "execution_count": 7,
   "id": "bc15c224-19a2-4713-bcc7-cdadbacfadc5",
   "metadata": {},
   "outputs": [
    {
     "data": {
      "text/html": [
       "<div><style>\n",
       ".dataframe > thead > tr,\n",
       ".dataframe > tbody > tr {\n",
       "  text-align: right;\n",
       "  white-space: pre-wrap;\n",
       "}\n",
       "</style>\n",
       "<small>shape: (9_131, 60)</small><table border=\"1\" class=\"dataframe\"><thead><tr><th>playerID</th><th>yearID</th><th>salary</th><th>stint</th><th>G</th><th>G_batting</th><th>AB</th><th>R</th><th>H</th><th>2B</th><th>3B</th><th>HR</th><th>RBI</th><th>SB</th><th>CS</th><th>BB</th><th>SO</th><th>IBB</th><th>HBP</th><th>SH</th><th>SF</th><th>GIDP</th><th>G_old</th><th>W</th><th>L</th><th>G_right</th><th>GS</th><th>CG</th><th>SHO</th><th>SV</th><th>IPouts</th><th>H_right</th><th>ER</th><th>HR_right</th><th>BB_right</th><th>SO_right</th><th>BAOpp</th><th>ERA</th><th>IBB_right</th><th>WP</th><th>HBP_right</th><th>BK</th><th>BFP</th><th>GF</th><th>R_right</th><th>SH_right</th><th>SF_right</th><th>GIDP_right</th><th>GS_right</th><th>InnOuts</th><th>PO</th><th>A</th><th>E</th><th>DP</th><th>PB</th><th>WP_right</th><th>SB_right</th><th>CS_right</th><th>ZR</th><th>Training-Validation</th></tr><tr><td>str</td><td>i64</td><td>i64</td><td>i64</td><td>i64</td><td>i64</td><td>i64</td><td>i64</td><td>i64</td><td>i64</td><td>i64</td><td>i64</td><td>i64</td><td>i64</td><td>i64</td><td>i64</td><td>i64</td><td>i64</td><td>i64</td><td>i64</td><td>i64</td><td>i64</td><td>i64</td><td>i64</td><td>i64</td><td>i64</td><td>i64</td><td>i64</td><td>i64</td><td>i64</td><td>i64</td><td>i64</td><td>i64</td><td>i64</td><td>i64</td><td>i64</td><td>f64</td><td>f64</td><td>i64</td><td>i64</td><td>i64</td><td>i64</td><td>i64</td><td>i64</td><td>i64</td><td>i64</td><td>i64</td><td>i64</td><td>i64</td><td>i64</td><td>i64</td><td>i64</td><td>i64</td><td>i64</td><td>i64</td><td>i64</td><td>i64</td><td>i64</td><td>i64</td><td>str</td></tr></thead><tbody><tr><td>&quot;gutiefr01&quot;</td><td>2013</td><td>7312500</td><td>1</td><td>41</td><td>0</td><td>145</td><td>18</td><td>36</td><td>7</td><td>0</td><td>10</td><td>24</td><td>3</td><td>1</td><td>5</td><td>43</td><td>0</td><td>0</td><td>1</td><td>0</td><td>2</td><td>0</td><td>null</td><td>null</td><td>null</td><td>null</td><td>null</td><td>null</td><td>null</td><td>null</td><td>null</td><td>null</td><td>null</td><td>null</td><td>null</td><td>null</td><td>null</td><td>null</td><td>null</td><td>null</td><td>null</td><td>null</td><td>null</td><td>null</td><td>null</td><td>null</td><td>null</td><td>null</td><td>null</td><td>null</td><td>null</td><td>null</td><td>null</td><td>null</td><td>null</td><td>null</td><td>null</td><td>null</td><td>&quot;Training&quot;</td></tr><tr><td>&quot;lagarju01&quot;</td><td>2016</td><td>2500000</td><td>1</td><td>79</td><td>0</td><td>142</td><td>15</td><td>34</td><td>7</td><td>2</td><td>3</td><td>9</td><td>4</td><td>2</td><td>11</td><td>27</td><td>1</td><td>2</td><td>4</td><td>1</td><td>4</td><td>0</td><td>null</td><td>null</td><td>null</td><td>null</td><td>null</td><td>null</td><td>null</td><td>null</td><td>null</td><td>null</td><td>null</td><td>null</td><td>null</td><td>null</td><td>null</td><td>null</td><td>null</td><td>null</td><td>null</td><td>null</td><td>null</td><td>null</td><td>null</td><td>null</td><td>null</td><td>null</td><td>null</td><td>null</td><td>null</td><td>null</td><td>null</td><td>null</td><td>null</td><td>null</td><td>null</td><td>null</td><td>&quot;Validation&quot;</td></tr><tr><td>&quot;strasst01&quot;</td><td>2012</td><td>4875000</td><td>1</td><td>28</td><td>0</td><td>47</td><td>4</td><td>13</td><td>4</td><td>0</td><td>1</td><td>7</td><td>0</td><td>0</td><td>3</td><td>13</td><td>0</td><td>1</td><td>2</td><td>0</td><td>0</td><td>0</td><td>15</td><td>6</td><td>28</td><td>28</td><td>0</td><td>0</td><td>0</td><td>478</td><td>136</td><td>56</td><td>15</td><td>48</td><td>197</td><td>0.23</td><td>3.16</td><td>1</td><td>5</td><td>4</td><td>0</td><td>653</td><td>0</td><td>62</td><td>6</td><td>4</td><td>14</td><td>28</td><td>478</td><td>15</td><td>13</td><td>0</td><td>0</td><td>0</td><td>0</td><td>0</td><td>0</td><td>0</td><td>&quot;Training&quot;</td></tr><tr><td>&quot;strasst01&quot;</td><td>2015</td><td>7400000</td><td>1</td><td>23</td><td>0</td><td>38</td><td>1</td><td>5</td><td>0</td><td>0</td><td>0</td><td>0</td><td>0</td><td>0</td><td>2</td><td>17</td><td>0</td><td>0</td><td>6</td><td>0</td><td>0</td><td>0</td><td>11</td><td>7</td><td>23</td><td>23</td><td>0</td><td>0</td><td>0</td><td>382</td><td>115</td><td>49</td><td>14</td><td>26</td><td>155</td><td>0.236</td><td>3.46</td><td>0</td><td>4</td><td>3</td><td>0</td><td>523</td><td>0</td><td>56</td><td>5</td><td>1</td><td>8</td><td>23</td><td>382</td><td>3</td><td>9</td><td>2</td><td>0</td><td>0</td><td>0</td><td>0</td><td>0</td><td>0</td><td>&quot;Training&quot;</td></tr><tr><td>&quot;thornma01&quot;</td><td>2013</td><td>5500000</td><td>3</td><td>60</td><td>0</td><td>0</td><td>0</td><td>0</td><td>0</td><td>0</td><td>0</td><td>0</td><td>0</td><td>0</td><td>0</td><td>0</td><td>0</td><td>0</td><td>0</td><td>0</td><td>0</td><td>0</td><td>0</td><td>4</td><td>60</td><td>0</td><td>0</td><td>0</td><td>0</td><td>130</td><td>47</td><td>18</td><td>4</td><td>15</td><td>30</td><td>0.594</td><td>7.38</td><td>1</td><td>2</td><td>2</td><td>0</td><td>187</td><td>6</td><td>20</td><td>4</td><td>1</td><td>6</td><td>0</td><td>130</td><td>3</td><td>6</td><td>2</td><td>0</td><td>0</td><td>0</td><td>0</td><td>0</td><td>0</td><td>&quot;Training&quot;</td></tr><tr><td>&hellip;</td><td>&hellip;</td><td>&hellip;</td><td>&hellip;</td><td>&hellip;</td><td>&hellip;</td><td>&hellip;</td><td>&hellip;</td><td>&hellip;</td><td>&hellip;</td><td>&hellip;</td><td>&hellip;</td><td>&hellip;</td><td>&hellip;</td><td>&hellip;</td><td>&hellip;</td><td>&hellip;</td><td>&hellip;</td><td>&hellip;</td><td>&hellip;</td><td>&hellip;</td><td>&hellip;</td><td>&hellip;</td><td>&hellip;</td><td>&hellip;</td><td>&hellip;</td><td>&hellip;</td><td>&hellip;</td><td>&hellip;</td><td>&hellip;</td><td>&hellip;</td><td>&hellip;</td><td>&hellip;</td><td>&hellip;</td><td>&hellip;</td><td>&hellip;</td><td>&hellip;</td><td>&hellip;</td><td>&hellip;</td><td>&hellip;</td><td>&hellip;</td><td>&hellip;</td><td>&hellip;</td><td>&hellip;</td><td>&hellip;</td><td>&hellip;</td><td>&hellip;</td><td>&hellip;</td><td>&hellip;</td><td>&hellip;</td><td>&hellip;</td><td>&hellip;</td><td>&hellip;</td><td>&hellip;</td><td>&hellip;</td><td>&hellip;</td><td>&hellip;</td><td>&hellip;</td><td>&hellip;</td><td>&hellip;</td></tr><tr><td>&quot;volstch01&quot;</td><td>2011</td><td>445000</td><td>1</td><td>29</td><td>0</td><td>46</td><td>3</td><td>9</td><td>2</td><td>0</td><td>0</td><td>2</td><td>0</td><td>0</td><td>1</td><td>19</td><td>0</td><td>0</td><td>5</td><td>0</td><td>1</td><td>0</td><td>5</td><td>13</td><td>29</td><td>29</td><td>0</td><td>0</td><td>0</td><td>497</td><td>187</td><td>90</td><td>23</td><td>49</td><td>117</td><td>0.289</td><td>4.89</td><td>6</td><td>2</td><td>1</td><td>1</td><td>719</td><td>0</td><td>96</td><td>12</td><td>10</td><td>13</td><td>29</td><td>497</td><td>12</td><td>22</td><td>1</td><td>2</td><td>0</td><td>0</td><td>0</td><td>0</td><td>0</td><td>&quot;Training&quot;</td></tr><tr><td>&quot;frandke01&quot;</td><td>2013</td><td>850000</td><td>1</td><td>119</td><td>0</td><td>252</td><td>27</td><td>59</td><td>10</td><td>1</td><td>5</td><td>26</td><td>1</td><td>0</td><td>12</td><td>29</td><td>0</td><td>11</td><td>1</td><td>2</td><td>10</td><td>0</td><td>null</td><td>null</td><td>null</td><td>null</td><td>null</td><td>null</td><td>null</td><td>null</td><td>null</td><td>null</td><td>null</td><td>null</td><td>null</td><td>null</td><td>null</td><td>null</td><td>null</td><td>null</td><td>null</td><td>null</td><td>null</td><td>null</td><td>null</td><td>null</td><td>null</td><td>null</td><td>null</td><td>null</td><td>null</td><td>null</td><td>null</td><td>null</td><td>null</td><td>null</td><td>null</td><td>null</td><td>&quot;Training&quot;</td></tr><tr><td>&quot;niekrla01&quot;</td><td>2007</td><td>390000</td><td>1</td><td>11</td><td>0</td><td>17</td><td>0</td><td>3</td><td>0</td><td>0</td><td>0</td><td>0</td><td>0</td><td>0</td><td>1</td><td>5</td><td>0</td><td>0</td><td>0</td><td>0</td><td>1</td><td>0</td><td>null</td><td>null</td><td>null</td><td>null</td><td>null</td><td>null</td><td>null</td><td>null</td><td>null</td><td>null</td><td>null</td><td>null</td><td>null</td><td>null</td><td>null</td><td>null</td><td>null</td><td>null</td><td>null</td><td>null</td><td>null</td><td>null</td><td>null</td><td>null</td><td>null</td><td>null</td><td>null</td><td>null</td><td>null</td><td>null</td><td>null</td><td>null</td><td>null</td><td>null</td><td>null</td><td>null</td><td>&quot;Training&quot;</td></tr><tr><td>&quot;marmoca01&quot;</td><td>2011</td><td>2533333</td><td>1</td><td>75</td><td>0</td><td>0</td><td>0</td><td>0</td><td>0</td><td>0</td><td>0</td><td>0</td><td>0</td><td>0</td><td>0</td><td>0</td><td>0</td><td>0</td><td>0</td><td>0</td><td>0</td><td>0</td><td>2</td><td>6</td><td>75</td><td>0</td><td>0</td><td>0</td><td>34</td><td>222</td><td>54</td><td>33</td><td>5</td><td>48</td><td>99</td><td>0.205</td><td>4.01</td><td>2</td><td>4</td><td>9</td><td>0</td><td>327</td><td>61</td><td>33</td><td>4</td><td>2</td><td>4</td><td>0</td><td>222</td><td>6</td><td>9</td><td>0</td><td>1</td><td>0</td><td>0</td><td>0</td><td>0</td><td>0</td><td>&quot;Training&quot;</td></tr><tr><td>&quot;verlaju01&quot;</td><td>2009</td><td>3675000</td><td>1</td><td>35</td><td>0</td><td>2</td><td>0</td><td>0</td><td>0</td><td>0</td><td>0</td><td>0</td><td>0</td><td>0</td><td>0</td><td>1</td><td>0</td><td>0</td><td>2</td><td>0</td><td>0</td><td>0</td><td>19</td><td>9</td><td>35</td><td>35</td><td>3</td><td>1</td><td>0</td><td>720</td><td>219</td><td>92</td><td>20</td><td>63</td><td>269</td><td>0.243</td><td>3.45</td><td>5</td><td>8</td><td>6</td><td>4</td><td>982</td><td>0</td><td>99</td><td>6</td><td>4</td><td>10</td><td>35</td><td>720</td><td>14</td><td>20</td><td>2</td><td>4</td><td>0</td><td>0</td><td>0</td><td>0</td><td>0</td><td>&quot;Training&quot;</td></tr></tbody></table></div>"
      ],
      "text/plain": [
       "shape: (9_131, 60)\n",
       "┌───────────┬────────┬─────────┬───────┬───┬──────────┬──────────┬──────┬─────────────────────┐\n",
       "│ playerID  ┆ yearID ┆ salary  ┆ stint ┆ … ┆ SB_right ┆ CS_right ┆ ZR   ┆ Training-Validation │\n",
       "│ ---       ┆ ---    ┆ ---     ┆ ---   ┆   ┆ ---      ┆ ---      ┆ ---  ┆ ---                 │\n",
       "│ str       ┆ i64    ┆ i64     ┆ i64   ┆   ┆ i64      ┆ i64      ┆ i64  ┆ str                 │\n",
       "╞═══════════╪════════╪═════════╪═══════╪═══╪══════════╪══════════╪══════╪═════════════════════╡\n",
       "│ gutiefr01 ┆ 2013   ┆ 7312500 ┆ 1     ┆ … ┆ null     ┆ null     ┆ null ┆ Training            │\n",
       "│ lagarju01 ┆ 2016   ┆ 2500000 ┆ 1     ┆ … ┆ null     ┆ null     ┆ null ┆ Validation          │\n",
       "│ strasst01 ┆ 2012   ┆ 4875000 ┆ 1     ┆ … ┆ 0        ┆ 0        ┆ 0    ┆ Training            │\n",
       "│ strasst01 ┆ 2015   ┆ 7400000 ┆ 1     ┆ … ┆ 0        ┆ 0        ┆ 0    ┆ Training            │\n",
       "│ thornma01 ┆ 2013   ┆ 5500000 ┆ 3     ┆ … ┆ 0        ┆ 0        ┆ 0    ┆ Training            │\n",
       "│ …         ┆ …      ┆ …       ┆ …     ┆ … ┆ …        ┆ …        ┆ …    ┆ …                   │\n",
       "│ volstch01 ┆ 2011   ┆ 445000  ┆ 1     ┆ … ┆ 0        ┆ 0        ┆ 0    ┆ Training            │\n",
       "│ frandke01 ┆ 2013   ┆ 850000  ┆ 1     ┆ … ┆ null     ┆ null     ┆ null ┆ Training            │\n",
       "│ niekrla01 ┆ 2007   ┆ 390000  ┆ 1     ┆ … ┆ null     ┆ null     ┆ null ┆ Training            │\n",
       "│ marmoca01 ┆ 2011   ┆ 2533333 ┆ 1     ┆ … ┆ 0        ┆ 0        ┆ 0    ┆ Training            │\n",
       "│ verlaju01 ┆ 2009   ┆ 3675000 ┆ 1     ┆ … ┆ 0        ┆ 0        ┆ 0    ┆ Training            │\n",
       "└───────────┴────────┴─────────┴───────┴───┴──────────┴──────────┴──────┴─────────────────────┘"
      ]
     },
     "execution_count": 7,
     "metadata": {},
     "output_type": "execute_result"
    }
   ],
   "source": [
    "salary_join = (salary\n",
    "               .join(battingAg, on=['playerID', 'yearID'], how='left')\n",
    "               .join(pitchingAg, on=['playerID', 'yearID'], how='left')\n",
    "               .join(fieldingAg, on=['playerID', 'yearID', 'G'], how='left')\n",
    "               .with_columns(\n",
    "                   pl.when(pl.col('yearID') == 2016)\n",
    "                            .then(pl.lit('Validation'))\n",
    "                             .otherwise(pl.lit('Training'))\n",
    "                             .alias('Training-Validation')\n",
    "              )\n",
    "              )\n",
    "\n",
    "salary_join"
   ]
  }
 ],
 "metadata": {
  "kernelspec": {
   "display_name": "Python 3 (ipykernel)",
   "language": "python",
   "name": "python3"
  },
  "language_info": {
   "codemirror_mode": {
    "name": "ipython",
    "version": 3
   },
   "file_extension": ".py",
   "mimetype": "text/x-python",
   "name": "python",
   "nbconvert_exporter": "python",
   "pygments_lexer": "ipython3",
   "version": "3.12.5"
  }
 },
 "nbformat": 4,
 "nbformat_minor": 5
}
