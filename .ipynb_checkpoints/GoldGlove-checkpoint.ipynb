{
 "cells": [
  {
   "cell_type": "code",
   "execution_count": 1,
   "id": "b3558f04-24d0-48c3-847f-8e60341901be",
   "metadata": {},
   "outputs": [],
   "source": [
    "import polars as pl"
   ]
  },
  {
   "cell_type": "code",
   "execution_count": 2,
   "id": "339c82c7-6071-42f6-91f7-651b15d8874a",
   "metadata": {},
   "outputs": [
    {
     "data": {
      "text/html": [
       "<div><style>\n",
       ".dataframe > thead > tr,\n",
       ".dataframe > tbody > tr {\n",
       "  text-align: right;\n",
       "  white-space: pre-wrap;\n",
       "}\n",
       "</style>\n",
       "<small>shape: (6_797, 6)</small><table border=\"1\" class=\"dataframe\"><thead><tr><th>playerID</th><th>awardID</th><th>yearID</th><th>lgID</th><th>tie</th><th>notes</th></tr><tr><td>str</td><td>str</td><td>i64</td><td>str</td><td>str</td><td>str</td></tr></thead><tbody><tr><td>&quot;poseybu01&quot;</td><td>&quot;Lou Gehrig Memorial Award&quot;</td><td>2019</td><td>&quot;ML&quot;</td><td>null</td><td>null</td></tr><tr><td>&quot;klubeco01&quot;</td><td>&quot;Lou Gehrig Memorial Award&quot;</td><td>2018</td><td>&quot;ML&quot;</td><td>null</td><td>null</td></tr><tr><td>&quot;vottojo01&quot;</td><td>&quot;Lou Gehrig Memorial Award&quot;</td><td>2017</td><td>&quot;ML&quot;</td><td>null</td><td>null</td></tr><tr><td>&quot;altuvjo01&quot;</td><td>&quot;Lou Gehrig Memorial Award&quot;</td><td>2016</td><td>&quot;ML&quot;</td><td>null</td><td>null</td></tr><tr><td>&quot;grandcu01&quot;</td><td>&quot;Lou Gehrig Memorial Award&quot;</td><td>2015</td><td>&quot;ML&quot;</td><td>null</td><td>null</td></tr><tr><td>&hellip;</td><td>&hellip;</td><td>&hellip;</td><td>&hellip;</td><td>&hellip;</td><td>&hellip;</td></tr><tr><td>&quot;barnhtu01&quot;</td><td>&quot;Gold Glove&quot;</td><td>2017</td><td>&quot;NL&quot;</td><td>null</td><td>&quot;C&quot;</td></tr><tr><td>&quot;goldspa01&quot;</td><td>&quot;Gold Glove&quot;</td><td>2017</td><td>&quot;NL&quot;</td><td>null</td><td>&quot;1B&quot;</td></tr><tr><td>&quot;lemahdj01&quot;</td><td>&quot;Gold Glove&quot;</td><td>2017</td><td>&quot;NL&quot;</td><td>null</td><td>&quot;2B&quot;</td></tr><tr><td>&quot;arenano01&quot;</td><td>&quot;Gold Glove&quot;</td><td>2017</td><td>&quot;NL&quot;</td><td>null</td><td>&quot;3B&quot;</td></tr><tr><td>&quot;crawfbr01&quot;</td><td>&quot;Gold Glove&quot;</td><td>2017</td><td>&quot;NL&quot;</td><td>null</td><td>&quot;SS&quot;</td></tr></tbody></table></div>"
      ],
      "text/plain": [
       "shape: (6_797, 6)\n",
       "┌───────────┬───────────────────────────┬────────┬──────┬──────┬───────┐\n",
       "│ playerID  ┆ awardID                   ┆ yearID ┆ lgID ┆ tie  ┆ notes │\n",
       "│ ---       ┆ ---                       ┆ ---    ┆ ---  ┆ ---  ┆ ---   │\n",
       "│ str       ┆ str                       ┆ i64    ┆ str  ┆ str  ┆ str   │\n",
       "╞═══════════╪═══════════════════════════╪════════╪══════╪══════╪═══════╡\n",
       "│ poseybu01 ┆ Lou Gehrig Memorial Award ┆ 2019   ┆ ML   ┆ null ┆ null  │\n",
       "│ klubeco01 ┆ Lou Gehrig Memorial Award ┆ 2018   ┆ ML   ┆ null ┆ null  │\n",
       "│ vottojo01 ┆ Lou Gehrig Memorial Award ┆ 2017   ┆ ML   ┆ null ┆ null  │\n",
       "│ altuvjo01 ┆ Lou Gehrig Memorial Award ┆ 2016   ┆ ML   ┆ null ┆ null  │\n",
       "│ grandcu01 ┆ Lou Gehrig Memorial Award ┆ 2015   ┆ ML   ┆ null ┆ null  │\n",
       "│ …         ┆ …                         ┆ …      ┆ …    ┆ …    ┆ …     │\n",
       "│ barnhtu01 ┆ Gold Glove                ┆ 2017   ┆ NL   ┆ null ┆ C     │\n",
       "│ goldspa01 ┆ Gold Glove                ┆ 2017   ┆ NL   ┆ null ┆ 1B    │\n",
       "│ lemahdj01 ┆ Gold Glove                ┆ 2017   ┆ NL   ┆ null ┆ 2B    │\n",
       "│ arenano01 ┆ Gold Glove                ┆ 2017   ┆ NL   ┆ null ┆ 3B    │\n",
       "│ crawfbr01 ┆ Gold Glove                ┆ 2017   ┆ NL   ┆ null ┆ SS    │\n",
       "└───────────┴───────────────────────────┴────────┴──────┴──────┴───────┘"
      ]
     },
     "execution_count": 2,
     "metadata": {},
     "output_type": "execute_result"
    }
   ],
   "source": [
    "awards = pl.read_csv('./Data/lahman_1871-2023_csv/lahman_1871-2023_csv/AwardsPlayers.csv')\n",
    "\n",
    "awards"
   ]
  },
  {
   "cell_type": "code",
   "execution_count": 3,
   "id": "01937edd-cbf2-4dce-b2b3-ba127435f3cf",
   "metadata": {},
   "outputs": [
    {
     "data": {
      "text/html": [
       "<div><style>\n",
       ".dataframe > thead > tr,\n",
       ".dataframe > tbody > tr {\n",
       "  text-align: right;\n",
       "  white-space: pre-wrap;\n",
       "}\n",
       "</style>\n",
       "<small>shape: (151_507, 18)</small><table border=\"1\" class=\"dataframe\"><thead><tr><th>playerID</th><th>yearID</th><th>stint</th><th>teamID</th><th>lgID</th><th>POS</th><th>G</th><th>GS</th><th>InnOuts</th><th>PO</th><th>A</th><th>E</th><th>DP</th><th>PB</th><th>WP</th><th>SB</th><th>CS</th><th>ZR</th></tr><tr><td>str</td><td>i64</td><td>i64</td><td>str</td><td>str</td><td>str</td><td>i64</td><td>i64</td><td>i64</td><td>i64</td><td>i64</td><td>i64</td><td>i64</td><td>str</td><td>str</td><td>str</td><td>str</td><td>str</td></tr></thead><tbody><tr><td>&quot;aardsda01&quot;</td><td>2004</td><td>1</td><td>&quot;SFN&quot;</td><td>&quot;NL&quot;</td><td>&quot;P&quot;</td><td>11</td><td>0</td><td>32</td><td>0</td><td>0</td><td>0</td><td>0</td><td>null</td><td>null</td><td>null</td><td>null</td><td>null</td></tr><tr><td>&quot;aardsda01&quot;</td><td>2006</td><td>1</td><td>&quot;CHN&quot;</td><td>&quot;NL&quot;</td><td>&quot;P&quot;</td><td>45</td><td>0</td><td>159</td><td>1</td><td>5</td><td>0</td><td>1</td><td>null</td><td>null</td><td>null</td><td>null</td><td>null</td></tr><tr><td>&quot;aardsda01&quot;</td><td>2007</td><td>1</td><td>&quot;CHA&quot;</td><td>&quot;AL&quot;</td><td>&quot;P&quot;</td><td>25</td><td>0</td><td>97</td><td>2</td><td>4</td><td>1</td><td>0</td><td>null</td><td>null</td><td>null</td><td>null</td><td>null</td></tr><tr><td>&quot;aardsda01&quot;</td><td>2008</td><td>1</td><td>&quot;BOS&quot;</td><td>&quot;AL&quot;</td><td>&quot;P&quot;</td><td>47</td><td>0</td><td>146</td><td>3</td><td>6</td><td>0</td><td>0</td><td>null</td><td>null</td><td>null</td><td>null</td><td>null</td></tr><tr><td>&quot;aardsda01&quot;</td><td>2009</td><td>1</td><td>&quot;SEA&quot;</td><td>&quot;AL&quot;</td><td>&quot;P&quot;</td><td>73</td><td>0</td><td>214</td><td>2</td><td>5</td><td>0</td><td>1</td><td>null</td><td>null</td><td>null</td><td>null</td><td>null</td></tr><tr><td>&hellip;</td><td>&hellip;</td><td>&hellip;</td><td>&hellip;</td><td>&hellip;</td><td>&hellip;</td><td>&hellip;</td><td>&hellip;</td><td>&hellip;</td><td>&hellip;</td><td>&hellip;</td><td>&hellip;</td><td>&hellip;</td><td>&hellip;</td><td>&hellip;</td><td>&hellip;</td><td>&hellip;</td><td>&hellip;</td></tr><tr><td>&quot;zwilldu01&quot;</td><td>1915</td><td>1</td><td>&quot;CHF&quot;</td><td>&quot;FL&quot;</td><td>&quot;OF&quot;</td><td>148</td><td>null</td><td>null</td><td>356</td><td>20</td><td>8</td><td>6</td><td>null</td><td>null</td><td>null</td><td>null</td><td>null</td></tr><tr><td>&quot;zwilldu01&quot;</td><td>1916</td><td>1</td><td>&quot;CHN&quot;</td><td>&quot;NL&quot;</td><td>&quot;OF&quot;</td><td>10</td><td>null</td><td>null</td><td>11</td><td>0</td><td>0</td><td>0</td><td>null</td><td>null</td><td>null</td><td>null</td><td>null</td></tr><tr><td>&quot;zychto01&quot;</td><td>2015</td><td>1</td><td>&quot;SEA&quot;</td><td>&quot;AL&quot;</td><td>&quot;P&quot;</td><td>13</td><td>1</td><td>55</td><td>0</td><td>3</td><td>0</td><td>0</td><td>null</td><td>null</td><td>null</td><td>null</td><td>null</td></tr><tr><td>&quot;zychto01&quot;</td><td>2016</td><td>1</td><td>&quot;SEA&quot;</td><td>&quot;AL&quot;</td><td>&quot;P&quot;</td><td>12</td><td>0</td><td>41</td><td>0</td><td>0</td><td>1</td><td>0</td><td>null</td><td>null</td><td>null</td><td>null</td><td>null</td></tr><tr><td>&quot;zychto01&quot;</td><td>2017</td><td>1</td><td>&quot;SEA&quot;</td><td>&quot;AL&quot;</td><td>&quot;P&quot;</td><td>45</td><td>0</td><td>122</td><td>1</td><td>3</td><td>0</td><td>0</td><td>null</td><td>null</td><td>null</td><td>null</td><td>null</td></tr></tbody></table></div>"
      ],
      "text/plain": [
       "shape: (151_507, 18)\n",
       "┌───────────┬────────┬───────┬────────┬───┬──────┬──────┬──────┬──────┐\n",
       "│ playerID  ┆ yearID ┆ stint ┆ teamID ┆ … ┆ WP   ┆ SB   ┆ CS   ┆ ZR   │\n",
       "│ ---       ┆ ---    ┆ ---   ┆ ---    ┆   ┆ ---  ┆ ---  ┆ ---  ┆ ---  │\n",
       "│ str       ┆ i64    ┆ i64   ┆ str    ┆   ┆ str  ┆ str  ┆ str  ┆ str  │\n",
       "╞═══════════╪════════╪═══════╪════════╪═══╪══════╪══════╪══════╪══════╡\n",
       "│ aardsda01 ┆ 2004   ┆ 1     ┆ SFN    ┆ … ┆ null ┆ null ┆ null ┆ null │\n",
       "│ aardsda01 ┆ 2006   ┆ 1     ┆ CHN    ┆ … ┆ null ┆ null ┆ null ┆ null │\n",
       "│ aardsda01 ┆ 2007   ┆ 1     ┆ CHA    ┆ … ┆ null ┆ null ┆ null ┆ null │\n",
       "│ aardsda01 ┆ 2008   ┆ 1     ┆ BOS    ┆ … ┆ null ┆ null ┆ null ┆ null │\n",
       "│ aardsda01 ┆ 2009   ┆ 1     ┆ SEA    ┆ … ┆ null ┆ null ┆ null ┆ null │\n",
       "│ …         ┆ …      ┆ …     ┆ …      ┆ … ┆ …    ┆ …    ┆ …    ┆ …    │\n",
       "│ zwilldu01 ┆ 1915   ┆ 1     ┆ CHF    ┆ … ┆ null ┆ null ┆ null ┆ null │\n",
       "│ zwilldu01 ┆ 1916   ┆ 1     ┆ CHN    ┆ … ┆ null ┆ null ┆ null ┆ null │\n",
       "│ zychto01  ┆ 2015   ┆ 1     ┆ SEA    ┆ … ┆ null ┆ null ┆ null ┆ null │\n",
       "│ zychto01  ┆ 2016   ┆ 1     ┆ SEA    ┆ … ┆ null ┆ null ┆ null ┆ null │\n",
       "│ zychto01  ┆ 2017   ┆ 1     ┆ SEA    ┆ … ┆ null ┆ null ┆ null ┆ null │\n",
       "└───────────┴────────┴───────┴────────┴───┴──────┴──────┴──────┴──────┘"
      ]
     },
     "execution_count": 3,
     "metadata": {},
     "output_type": "execute_result"
    }
   ],
   "source": [
    "stats = pl.read_csv('./Data/lahman_1871-2023_csv/lahman_1871-2023_csv/Fielding.csv')\n",
    "\n",
    "stats"
   ]
  },
  {
   "cell_type": "code",
   "execution_count": 4,
   "id": "e57ea205-4e46-4712-a66a-c83cbcd63628",
   "metadata": {},
   "outputs": [
    {
     "data": {
      "text/html": [
       "<div><style>\n",
       ".dataframe > thead > tr,\n",
       ".dataframe > tbody > tr {\n",
       "  text-align: right;\n",
       "  white-space: pre-wrap;\n",
       "}\n",
       "</style>\n",
       "<small>shape: (21_356, 16)</small><table border=\"1\" class=\"dataframe\"><thead><tr><th>playerID</th><th>yearID</th><th>lgID</th><th>POS</th><th>Tot_G</th><th>Tot_GS</th><th>Tot_InnOuts</th><th>Tot_PO</th><th>Tot_A</th><th>Tot_E</th><th>Tot_DP</th><th>Tot_PB</th><th>Tot_WP</th><th>Tot_SB</th><th>Tot_CS</th><th>Tot_ZR</th></tr><tr><td>str</td><td>i64</td><td>str</td><td>str</td><td>i64</td><td>i64</td><td>i64</td><td>i64</td><td>i64</td><td>i64</td><td>i64</td><td>str</td><td>str</td><td>str</td><td>str</td><td>str</td></tr></thead><tbody><tr><td>&quot;aardsda01&quot;</td><td>2013</td><td>&quot;NL&quot;</td><td>&quot;P&quot;</td><td>43</td><td>0</td><td>119</td><td>1</td><td>5</td><td>0</td><td>0</td><td>null</td><td>null</td><td>null</td><td>null</td><td>null</td></tr><tr><td>&quot;aardsda01&quot;</td><td>2015</td><td>&quot;NL&quot;</td><td>&quot;P&quot;</td><td>33</td><td>0</td><td>92</td><td>0</td><td>1</td><td>1</td><td>0</td><td>null</td><td>null</td><td>null</td><td>null</td><td>null</td></tr><tr><td>&quot;abadfe01&quot;</td><td>2013</td><td>&quot;NL&quot;</td><td>&quot;P&quot;</td><td>39</td><td>0</td><td>113</td><td>1</td><td>4</td><td>0</td><td>0</td><td>null</td><td>null</td><td>null</td><td>null</td><td>null</td></tr><tr><td>&quot;abadfe01&quot;</td><td>2014</td><td>&quot;AL&quot;</td><td>&quot;P&quot;</td><td>69</td><td>0</td><td>172</td><td>0</td><td>8</td><td>0</td><td>0</td><td>null</td><td>null</td><td>null</td><td>null</td><td>null</td></tr><tr><td>&quot;abadfe01&quot;</td><td>2015</td><td>&quot;AL&quot;</td><td>&quot;P&quot;</td><td>62</td><td>0</td><td>143</td><td>2</td><td>4</td><td>0</td><td>0</td><td>null</td><td>null</td><td>null</td><td>null</td><td>null</td></tr><tr><td>&hellip;</td><td>&hellip;</td><td>&hellip;</td><td>&hellip;</td><td>&hellip;</td><td>&hellip;</td><td>&hellip;</td><td>&hellip;</td><td>&hellip;</td><td>&hellip;</td><td>&hellip;</td><td>&hellip;</td><td>&hellip;</td><td>&hellip;</td><td>&hellip;</td><td>&hellip;</td></tr><tr><td>&quot;zuninmi01&quot;</td><td>2022</td><td>&quot;AL&quot;</td><td>&quot;C&quot;</td><td>35</td><td>34</td><td>898</td><td>283</td><td>9</td><td>1</td><td>0</td><td>null</td><td>null</td><td>null</td><td>null</td><td>null</td></tr><tr><td>&quot;zuninmi01&quot;</td><td>2023</td><td>&quot;AL&quot;</td><td>&quot;C&quot;</td><td>42</td><td>41</td><td>1019</td><td>276</td><td>17</td><td>3</td><td>2</td><td>null</td><td>null</td><td>null</td><td>null</td><td>null</td></tr><tr><td>&quot;zychto01&quot;</td><td>2015</td><td>&quot;AL&quot;</td><td>&quot;P&quot;</td><td>13</td><td>1</td><td>55</td><td>0</td><td>3</td><td>0</td><td>0</td><td>null</td><td>null</td><td>null</td><td>null</td><td>null</td></tr><tr><td>&quot;zychto01&quot;</td><td>2016</td><td>&quot;AL&quot;</td><td>&quot;P&quot;</td><td>12</td><td>0</td><td>41</td><td>0</td><td>0</td><td>1</td><td>0</td><td>null</td><td>null</td><td>null</td><td>null</td><td>null</td></tr><tr><td>&quot;zychto01&quot;</td><td>2017</td><td>&quot;AL&quot;</td><td>&quot;P&quot;</td><td>45</td><td>0</td><td>122</td><td>1</td><td>3</td><td>0</td><td>0</td><td>null</td><td>null</td><td>null</td><td>null</td><td>null</td></tr></tbody></table></div>"
      ],
      "text/plain": [
       "shape: (21_356, 16)\n",
       "┌───────────┬────────┬──────┬─────┬───┬────────┬────────┬────────┬────────┐\n",
       "│ playerID  ┆ yearID ┆ lgID ┆ POS ┆ … ┆ Tot_WP ┆ Tot_SB ┆ Tot_CS ┆ Tot_ZR │\n",
       "│ ---       ┆ ---    ┆ ---  ┆ --- ┆   ┆ ---    ┆ ---    ┆ ---    ┆ ---    │\n",
       "│ str       ┆ i64    ┆ str  ┆ str ┆   ┆ str    ┆ str    ┆ str    ┆ str    │\n",
       "╞═══════════╪════════╪══════╪═════╪═══╪════════╪════════╪════════╪════════╡\n",
       "│ aardsda01 ┆ 2013   ┆ NL   ┆ P   ┆ … ┆ null   ┆ null   ┆ null   ┆ null   │\n",
       "│ aardsda01 ┆ 2015   ┆ NL   ┆ P   ┆ … ┆ null   ┆ null   ┆ null   ┆ null   │\n",
       "│ abadfe01  ┆ 2013   ┆ NL   ┆ P   ┆ … ┆ null   ┆ null   ┆ null   ┆ null   │\n",
       "│ abadfe01  ┆ 2014   ┆ AL   ┆ P   ┆ … ┆ null   ┆ null   ┆ null   ┆ null   │\n",
       "│ abadfe01  ┆ 2015   ┆ AL   ┆ P   ┆ … ┆ null   ┆ null   ┆ null   ┆ null   │\n",
       "│ …         ┆ …      ┆ …    ┆ …   ┆ … ┆ …      ┆ …      ┆ …      ┆ …      │\n",
       "│ zuninmi01 ┆ 2022   ┆ AL   ┆ C   ┆ … ┆ null   ┆ null   ┆ null   ┆ null   │\n",
       "│ zuninmi01 ┆ 2023   ┆ AL   ┆ C   ┆ … ┆ null   ┆ null   ┆ null   ┆ null   │\n",
       "│ zychto01  ┆ 2015   ┆ AL   ┆ P   ┆ … ┆ null   ┆ null   ┆ null   ┆ null   │\n",
       "│ zychto01  ┆ 2016   ┆ AL   ┆ P   ┆ … ┆ null   ┆ null   ┆ null   ┆ null   │\n",
       "│ zychto01  ┆ 2017   ┆ AL   ┆ P   ┆ … ┆ null   ┆ null   ┆ null   ┆ null   │\n",
       "└───────────┴────────┴──────┴─────┴───┴────────┴────────┴────────┴────────┘"
      ]
     },
     "execution_count": 4,
     "metadata": {},
     "output_type": "execute_result"
    }
   ],
   "source": [
    "stats = (\n",
    "    stats\n",
    "    .filter(pl.col('yearID') >= 2013)\n",
    "    .group_by(['playerID', 'yearID', 'lgID', 'POS'])\n",
    "    .agg(pl.col(\"G\").sum().alias(\"Tot_G\"), \n",
    "         pl.col(\"GS\").sum().alias(\"Tot_GS\"), \n",
    "         pl.col(\"InnOuts\").sum().alias(\"Tot_InnOuts\"), \n",
    "         pl.col(\"PO\").sum().alias(\"Tot_PO\"), \n",
    "         pl.col(\"A\").sum().alias(\"Tot_A\"), \n",
    "         pl.col(\"E\").sum().alias(\"Tot_E\"),\n",
    "         pl.col(\"DP\").sum().alias(\"Tot_DP\"),\n",
    "         pl.col(\"PB\").sum().alias(\"Tot_PB\"),\n",
    "         pl.col(\"WP\").sum().alias(\"Tot_WP\"),\n",
    "         pl.col(\"SB\").sum().alias(\"Tot_SB\"),\n",
    "         pl.col(\"CS\").sum().alias(\"Tot_CS\"),\n",
    "         pl.col(\"ZR\").sum().alias(\"Tot_ZR\"))\n",
    ")\n",
    "\n",
    "stats.sort(pl.col('playerID'), pl.col('yearID'))"
   ]
  },
  {
   "cell_type": "code",
   "execution_count": 5,
   "id": "4ecc3df4-0639-449b-a4cf-706104c532c2",
   "metadata": {},
   "outputs": [
    {
     "data": {
      "text/html": [
       "<div><style>\n",
       ".dataframe > thead > tr,\n",
       ".dataframe > tbody > tr {\n",
       "  text-align: right;\n",
       "  white-space: pre-wrap;\n",
       "}\n",
       "</style>\n",
       "<small>shape: (872, 7)</small><table border=\"1\" class=\"dataframe\"><thead><tr><th>playerID</th><th>awardID</th><th>yearID</th><th>lgID</th><th>tie</th><th>notes</th><th>POS</th></tr><tr><td>str</td><td>str</td><td>i64</td><td>str</td><td>str</td><td>str</td><td>str</td></tr></thead><tbody><tr><td>&quot;abreujo02&quot;</td><td>&quot;Rookie of the Year&quot;</td><td>2014</td><td>&quot;AL&quot;</td><td>null</td><td>null</td><td>null</td></tr><tr><td>&quot;abreujo02&quot;</td><td>&quot;Silver Slugger&quot;</td><td>2014</td><td>&quot;AL&quot;</td><td>null</td><td>&quot;1B&quot;</td><td>&quot;1B&quot;</td></tr><tr><td>&quot;abreujo02&quot;</td><td>&quot;Silver Slugger&quot;</td><td>2018</td><td>&quot;AL&quot;</td><td>null</td><td>&quot;1B&quot;</td><td>&quot;1B&quot;</td></tr><tr><td>&quot;abreujo02&quot;</td><td>&quot;TSN All-Star&quot;</td><td>2020</td><td>&quot;AL&quot;</td><td>null</td><td>&quot;1B&quot;</td><td>&quot;1B&quot;</td></tr><tr><td>&quot;abreujo02&quot;</td><td>&quot;Most Valuable Player&quot;</td><td>2020</td><td>&quot;AL&quot;</td><td>null</td><td>null</td><td>null</td></tr><tr><td>&hellip;</td><td>&hellip;</td><td>&hellip;</td><td>&hellip;</td><td>&hellip;</td><td>&hellip;</td><td>&hellip;</td></tr><tr><td>&quot;yelicch01&quot;</td><td>&quot;Silver Slugger&quot;</td><td>2019</td><td>&quot;NL&quot;</td><td>null</td><td>&quot;OF&quot;</td><td>&quot;OF&quot;</td></tr><tr><td>&quot;yelicch01&quot;</td><td>&quot;TSN All-Star&quot;</td><td>2019</td><td>&quot;NL&quot;</td><td>null</td><td>&quot;OF&quot;</td><td>&quot;OF&quot;</td></tr><tr><td>&quot;youngch03&quot;</td><td>&quot;Comeback Player of the Year&quot;</td><td>2014</td><td>&quot;AL&quot;</td><td>null</td><td>null</td><td>null</td></tr><tr><td>&quot;zimmery01&quot;</td><td>&quot;Comeback Player of the Year&quot;</td><td>2017</td><td>&quot;NL&quot;</td><td>null</td><td>null</td><td>null</td></tr><tr><td>&quot;zobribe01&quot;</td><td>&quot;World Series MVP&quot;</td><td>2016</td><td>&quot;ML&quot;</td><td>null</td><td>null</td><td>null</td></tr></tbody></table></div>"
      ],
      "text/plain": [
       "shape: (872, 7)\n",
       "┌───────────┬─────────────────────────────┬────────┬──────┬──────┬───────┬──────┐\n",
       "│ playerID  ┆ awardID                     ┆ yearID ┆ lgID ┆ tie  ┆ notes ┆ POS  │\n",
       "│ ---       ┆ ---                         ┆ ---    ┆ ---  ┆ ---  ┆ ---   ┆ ---  │\n",
       "│ str       ┆ str                         ┆ i64    ┆ str  ┆ str  ┆ str   ┆ str  │\n",
       "╞═══════════╪═════════════════════════════╪════════╪══════╪══════╪═══════╪══════╡\n",
       "│ abreujo02 ┆ Rookie of the Year          ┆ 2014   ┆ AL   ┆ null ┆ null  ┆ null │\n",
       "│ abreujo02 ┆ Silver Slugger              ┆ 2014   ┆ AL   ┆ null ┆ 1B    ┆ 1B   │\n",
       "│ abreujo02 ┆ Silver Slugger              ┆ 2018   ┆ AL   ┆ null ┆ 1B    ┆ 1B   │\n",
       "│ abreujo02 ┆ TSN All-Star                ┆ 2020   ┆ AL   ┆ null ┆ 1B    ┆ 1B   │\n",
       "│ abreujo02 ┆ Most Valuable Player        ┆ 2020   ┆ AL   ┆ null ┆ null  ┆ null │\n",
       "│ …         ┆ …                           ┆ …      ┆ …    ┆ …    ┆ …     ┆ …    │\n",
       "│ yelicch01 ┆ Silver Slugger              ┆ 2019   ┆ NL   ┆ null ┆ OF    ┆ OF   │\n",
       "│ yelicch01 ┆ TSN All-Star                ┆ 2019   ┆ NL   ┆ null ┆ OF    ┆ OF   │\n",
       "│ youngch03 ┆ Comeback Player of the Year ┆ 2014   ┆ AL   ┆ null ┆ null  ┆ null │\n",
       "│ zimmery01 ┆ Comeback Player of the Year ┆ 2017   ┆ NL   ┆ null ┆ null  ┆ null │\n",
       "│ zobribe01 ┆ World Series MVP            ┆ 2016   ┆ ML   ┆ null ┆ null  ┆ null │\n",
       "└───────────┴─────────────────────────────┴────────┴──────┴──────┴───────┴──────┘"
      ]
     },
     "execution_count": 5,
     "metadata": {},
     "output_type": "execute_result"
    }
   ],
   "source": [
    "awards = (\n",
    "    awards\n",
    "        .filter(pl.col('yearID') >= 2013)\n",
    "        .sort(pl.col('playerID'), pl.col('yearID'))\n",
    "        .with_columns(pl.col('notes').alias('POS'))\n",
    ")\n",
    "\n",
    "awards"
   ]
  },
  {
   "cell_type": "code",
   "execution_count": 6,
   "id": "449a9724-008a-4bd1-96bd-08b6fdf7cc9e",
   "metadata": {},
   "outputs": [
    {
     "data": {
      "text/html": [
       "<div><style>\n",
       ".dataframe > thead > tr,\n",
       ".dataframe > tbody > tr {\n",
       "  text-align: right;\n",
       "  white-space: pre-wrap;\n",
       "}\n",
       "</style>\n",
       "<small>shape: (21_482, 20)</small><table border=\"1\" class=\"dataframe\"><thead><tr><th>playerID</th><th>yearID</th><th>lgID</th><th>POS</th><th>Tot_G</th><th>Tot_GS</th><th>Tot_InnOuts</th><th>Tot_PO</th><th>Tot_A</th><th>Tot_E</th><th>Tot_DP</th><th>Tot_PB</th><th>Tot_WP</th><th>Tot_SB</th><th>Tot_CS</th><th>Tot_ZR</th><th>awardID</th><th>tie</th><th>notes</th><th>Won Gold Glove</th></tr><tr><td>str</td><td>i64</td><td>str</td><td>str</td><td>i64</td><td>i64</td><td>i64</td><td>i64</td><td>i64</td><td>i64</td><td>i64</td><td>str</td><td>str</td><td>str</td><td>str</td><td>str</td><td>str</td><td>str</td><td>str</td><td>str</td></tr></thead><tbody><tr><td>&quot;aardsda01&quot;</td><td>2013</td><td>&quot;NL&quot;</td><td>&quot;P&quot;</td><td>43</td><td>0</td><td>119</td><td>1</td><td>5</td><td>0</td><td>0</td><td>null</td><td>null</td><td>null</td><td>null</td><td>null</td><td>null</td><td>null</td><td>null</td><td>&quot;No&quot;</td></tr><tr><td>&quot;aardsda01&quot;</td><td>2015</td><td>&quot;NL&quot;</td><td>&quot;P&quot;</td><td>33</td><td>0</td><td>92</td><td>0</td><td>1</td><td>1</td><td>0</td><td>null</td><td>null</td><td>null</td><td>null</td><td>null</td><td>null</td><td>null</td><td>null</td><td>&quot;No&quot;</td></tr><tr><td>&quot;abadfe01&quot;</td><td>2013</td><td>&quot;NL&quot;</td><td>&quot;P&quot;</td><td>39</td><td>0</td><td>113</td><td>1</td><td>4</td><td>0</td><td>0</td><td>null</td><td>null</td><td>null</td><td>null</td><td>null</td><td>null</td><td>null</td><td>null</td><td>&quot;No&quot;</td></tr><tr><td>&quot;abadfe01&quot;</td><td>2014</td><td>&quot;AL&quot;</td><td>&quot;P&quot;</td><td>69</td><td>0</td><td>172</td><td>0</td><td>8</td><td>0</td><td>0</td><td>null</td><td>null</td><td>null</td><td>null</td><td>null</td><td>null</td><td>null</td><td>null</td><td>&quot;No&quot;</td></tr><tr><td>&quot;abadfe01&quot;</td><td>2015</td><td>&quot;AL&quot;</td><td>&quot;P&quot;</td><td>62</td><td>0</td><td>143</td><td>2</td><td>4</td><td>0</td><td>0</td><td>null</td><td>null</td><td>null</td><td>null</td><td>null</td><td>null</td><td>null</td><td>null</td><td>&quot;No&quot;</td></tr><tr><td>&hellip;</td><td>&hellip;</td><td>&hellip;</td><td>&hellip;</td><td>&hellip;</td><td>&hellip;</td><td>&hellip;</td><td>&hellip;</td><td>&hellip;</td><td>&hellip;</td><td>&hellip;</td><td>&hellip;</td><td>&hellip;</td><td>&hellip;</td><td>&hellip;</td><td>&hellip;</td><td>&hellip;</td><td>&hellip;</td><td>&hellip;</td><td>&hellip;</td></tr><tr><td>&quot;zuninmi01&quot;</td><td>2022</td><td>&quot;AL&quot;</td><td>&quot;C&quot;</td><td>35</td><td>34</td><td>898</td><td>283</td><td>9</td><td>1</td><td>0</td><td>null</td><td>null</td><td>null</td><td>null</td><td>null</td><td>null</td><td>null</td><td>null</td><td>&quot;No&quot;</td></tr><tr><td>&quot;zuninmi01&quot;</td><td>2023</td><td>&quot;AL&quot;</td><td>&quot;C&quot;</td><td>42</td><td>41</td><td>1019</td><td>276</td><td>17</td><td>3</td><td>2</td><td>null</td><td>null</td><td>null</td><td>null</td><td>null</td><td>null</td><td>null</td><td>null</td><td>&quot;No&quot;</td></tr><tr><td>&quot;zychto01&quot;</td><td>2015</td><td>&quot;AL&quot;</td><td>&quot;P&quot;</td><td>13</td><td>1</td><td>55</td><td>0</td><td>3</td><td>0</td><td>0</td><td>null</td><td>null</td><td>null</td><td>null</td><td>null</td><td>null</td><td>null</td><td>null</td><td>&quot;No&quot;</td></tr><tr><td>&quot;zychto01&quot;</td><td>2016</td><td>&quot;AL&quot;</td><td>&quot;P&quot;</td><td>12</td><td>0</td><td>41</td><td>0</td><td>0</td><td>1</td><td>0</td><td>null</td><td>null</td><td>null</td><td>null</td><td>null</td><td>null</td><td>null</td><td>null</td><td>&quot;No&quot;</td></tr><tr><td>&quot;zychto01&quot;</td><td>2017</td><td>&quot;AL&quot;</td><td>&quot;P&quot;</td><td>45</td><td>0</td><td>122</td><td>1</td><td>3</td><td>0</td><td>0</td><td>null</td><td>null</td><td>null</td><td>null</td><td>null</td><td>null</td><td>null</td><td>null</td><td>&quot;No&quot;</td></tr></tbody></table></div>"
      ],
      "text/plain": [
       "shape: (21_482, 20)\n",
       "┌───────────┬────────┬──────┬─────┬───┬─────────┬──────┬───────┬────────────────┐\n",
       "│ playerID  ┆ yearID ┆ lgID ┆ POS ┆ … ┆ awardID ┆ tie  ┆ notes ┆ Won Gold Glove │\n",
       "│ ---       ┆ ---    ┆ ---  ┆ --- ┆   ┆ ---     ┆ ---  ┆ ---   ┆ ---            │\n",
       "│ str       ┆ i64    ┆ str  ┆ str ┆   ┆ str     ┆ str  ┆ str   ┆ str            │\n",
       "╞═══════════╪════════╪══════╪═════╪═══╪═════════╪══════╪═══════╪════════════════╡\n",
       "│ aardsda01 ┆ 2013   ┆ NL   ┆ P   ┆ … ┆ null    ┆ null ┆ null  ┆ No             │\n",
       "│ aardsda01 ┆ 2015   ┆ NL   ┆ P   ┆ … ┆ null    ┆ null ┆ null  ┆ No             │\n",
       "│ abadfe01  ┆ 2013   ┆ NL   ┆ P   ┆ … ┆ null    ┆ null ┆ null  ┆ No             │\n",
       "│ abadfe01  ┆ 2014   ┆ AL   ┆ P   ┆ … ┆ null    ┆ null ┆ null  ┆ No             │\n",
       "│ abadfe01  ┆ 2015   ┆ AL   ┆ P   ┆ … ┆ null    ┆ null ┆ null  ┆ No             │\n",
       "│ …         ┆ …      ┆ …    ┆ …   ┆ … ┆ …       ┆ …    ┆ …     ┆ …              │\n",
       "│ zuninmi01 ┆ 2022   ┆ AL   ┆ C   ┆ … ┆ null    ┆ null ┆ null  ┆ No             │\n",
       "│ zuninmi01 ┆ 2023   ┆ AL   ┆ C   ┆ … ┆ null    ┆ null ┆ null  ┆ No             │\n",
       "│ zychto01  ┆ 2015   ┆ AL   ┆ P   ┆ … ┆ null    ┆ null ┆ null  ┆ No             │\n",
       "│ zychto01  ┆ 2016   ┆ AL   ┆ P   ┆ … ┆ null    ┆ null ┆ null  ┆ No             │\n",
       "│ zychto01  ┆ 2017   ┆ AL   ┆ P   ┆ … ┆ null    ┆ null ┆ null  ┆ No             │\n",
       "└───────────┴────────┴──────┴─────┴───┴─────────┴──────┴───────┴────────────────┘"
      ]
     },
     "execution_count": 6,
     "metadata": {},
     "output_type": "execute_result"
    }
   ],
   "source": [
    "join_bball= (stats\n",
    "                .join(awards, on=[\"playerID\", \"yearID\", \"lgID\", \"POS\"], how=\"left\")\n",
    "                .sort(pl.col('playerID'), pl.col('yearID'))\n",
    "                .with_columns(\n",
    "                    pl\n",
    "                    .when(pl.col('awardID') == 'Gold Glove')\n",
    "                        .then(pl.lit('Yes'))\n",
    "                    .otherwise(pl.lit('No'))\n",
    "                    .alias('Won Gold Glove')\n",
    "                )\n",
    "            )\n",
    "join_bball"
   ]
  },
  {
   "cell_type": "code",
   "execution_count": 7,
   "id": "351260c7-b0cd-435e-a97a-4b17d1270403",
   "metadata": {},
   "outputs": [
    {
     "data": {
      "text/html": [
       "<div><style>\n",
       ".dataframe > thead > tr,\n",
       ".dataframe > tbody > tr {\n",
       "  text-align: right;\n",
       "  white-space: pre-wrap;\n",
       "}\n",
       "</style>\n",
       "<small>shape: (21_482, 20)</small><table border=\"1\" class=\"dataframe\"><thead><tr><th>playerID</th><th>yearID</th><th>lgID</th><th>POS</th><th>Tot_G</th><th>Tot_GS</th><th>Tot_InnOuts</th><th>Tot_PO</th><th>Tot_A</th><th>Tot_E</th><th>Tot_DP</th><th>Tot_PB</th><th>Tot_WP</th><th>Tot_SB</th><th>Tot_CS</th><th>Tot_ZR</th><th>awardID</th><th>tie</th><th>notes</th><th>Won Gold Glove</th></tr><tr><td>str</td><td>i64</td><td>str</td><td>str</td><td>i64</td><td>i64</td><td>i64</td><td>i64</td><td>i64</td><td>i64</td><td>i64</td><td>str</td><td>str</td><td>str</td><td>str</td><td>str</td><td>str</td><td>str</td><td>str</td><td>str</td></tr></thead><tbody><tr><td>&quot;aardsda01&quot;</td><td>2013</td><td>&quot;NL&quot;</td><td>&quot;P&quot;</td><td>43</td><td>0</td><td>119</td><td>1</td><td>5</td><td>0</td><td>0</td><td>null</td><td>null</td><td>null</td><td>null</td><td>null</td><td>null</td><td>null</td><td>null</td><td>&quot;No&quot;</td></tr><tr><td>&quot;aardsda01&quot;</td><td>2015</td><td>&quot;NL&quot;</td><td>&quot;P&quot;</td><td>33</td><td>0</td><td>92</td><td>0</td><td>1</td><td>1</td><td>0</td><td>null</td><td>null</td><td>null</td><td>null</td><td>null</td><td>null</td><td>null</td><td>null</td><td>&quot;No&quot;</td></tr><tr><td>&quot;abadfe01&quot;</td><td>2013</td><td>&quot;NL&quot;</td><td>&quot;P&quot;</td><td>39</td><td>0</td><td>113</td><td>1</td><td>4</td><td>0</td><td>0</td><td>null</td><td>null</td><td>null</td><td>null</td><td>null</td><td>null</td><td>null</td><td>null</td><td>&quot;No&quot;</td></tr><tr><td>&quot;abadfe01&quot;</td><td>2014</td><td>&quot;AL&quot;</td><td>&quot;P&quot;</td><td>69</td><td>0</td><td>172</td><td>0</td><td>8</td><td>0</td><td>0</td><td>null</td><td>null</td><td>null</td><td>null</td><td>null</td><td>null</td><td>null</td><td>null</td><td>&quot;No&quot;</td></tr><tr><td>&quot;abadfe01&quot;</td><td>2015</td><td>&quot;AL&quot;</td><td>&quot;P&quot;</td><td>62</td><td>0</td><td>143</td><td>2</td><td>4</td><td>0</td><td>0</td><td>null</td><td>null</td><td>null</td><td>null</td><td>null</td><td>null</td><td>null</td><td>null</td><td>&quot;No&quot;</td></tr><tr><td>&hellip;</td><td>&hellip;</td><td>&hellip;</td><td>&hellip;</td><td>&hellip;</td><td>&hellip;</td><td>&hellip;</td><td>&hellip;</td><td>&hellip;</td><td>&hellip;</td><td>&hellip;</td><td>&hellip;</td><td>&hellip;</td><td>&hellip;</td><td>&hellip;</td><td>&hellip;</td><td>&hellip;</td><td>&hellip;</td><td>&hellip;</td><td>&hellip;</td></tr><tr><td>&quot;zuninmi01&quot;</td><td>2022</td><td>&quot;AL&quot;</td><td>&quot;C&quot;</td><td>35</td><td>34</td><td>898</td><td>283</td><td>9</td><td>1</td><td>0</td><td>null</td><td>null</td><td>null</td><td>null</td><td>null</td><td>null</td><td>null</td><td>null</td><td>&quot;No&quot;</td></tr><tr><td>&quot;zuninmi01&quot;</td><td>2023</td><td>&quot;AL&quot;</td><td>&quot;C&quot;</td><td>42</td><td>41</td><td>1019</td><td>276</td><td>17</td><td>3</td><td>2</td><td>null</td><td>null</td><td>null</td><td>null</td><td>null</td><td>null</td><td>null</td><td>null</td><td>&quot;No&quot;</td></tr><tr><td>&quot;zychto01&quot;</td><td>2015</td><td>&quot;AL&quot;</td><td>&quot;P&quot;</td><td>13</td><td>1</td><td>55</td><td>0</td><td>3</td><td>0</td><td>0</td><td>null</td><td>null</td><td>null</td><td>null</td><td>null</td><td>null</td><td>null</td><td>null</td><td>&quot;No&quot;</td></tr><tr><td>&quot;zychto01&quot;</td><td>2016</td><td>&quot;AL&quot;</td><td>&quot;P&quot;</td><td>12</td><td>0</td><td>41</td><td>0</td><td>0</td><td>1</td><td>0</td><td>null</td><td>null</td><td>null</td><td>null</td><td>null</td><td>null</td><td>null</td><td>null</td><td>&quot;No&quot;</td></tr><tr><td>&quot;zychto01&quot;</td><td>2017</td><td>&quot;AL&quot;</td><td>&quot;P&quot;</td><td>45</td><td>0</td><td>122</td><td>1</td><td>3</td><td>0</td><td>0</td><td>null</td><td>null</td><td>null</td><td>null</td><td>null</td><td>null</td><td>null</td><td>null</td><td>&quot;No&quot;</td></tr></tbody></table></div>"
      ],
      "text/plain": [
       "shape: (21_482, 20)\n",
       "┌───────────┬────────┬──────┬─────┬───┬─────────┬──────┬───────┬────────────────┐\n",
       "│ playerID  ┆ yearID ┆ lgID ┆ POS ┆ … ┆ awardID ┆ tie  ┆ notes ┆ Won Gold Glove │\n",
       "│ ---       ┆ ---    ┆ ---  ┆ --- ┆   ┆ ---     ┆ ---  ┆ ---   ┆ ---            │\n",
       "│ str       ┆ i64    ┆ str  ┆ str ┆   ┆ str     ┆ str  ┆ str   ┆ str            │\n",
       "╞═══════════╪════════╪══════╪═════╪═══╪═════════╪══════╪═══════╪════════════════╡\n",
       "│ aardsda01 ┆ 2013   ┆ NL   ┆ P   ┆ … ┆ null    ┆ null ┆ null  ┆ No             │\n",
       "│ aardsda01 ┆ 2015   ┆ NL   ┆ P   ┆ … ┆ null    ┆ null ┆ null  ┆ No             │\n",
       "│ abadfe01  ┆ 2013   ┆ NL   ┆ P   ┆ … ┆ null    ┆ null ┆ null  ┆ No             │\n",
       "│ abadfe01  ┆ 2014   ┆ AL   ┆ P   ┆ … ┆ null    ┆ null ┆ null  ┆ No             │\n",
       "│ abadfe01  ┆ 2015   ┆ AL   ┆ P   ┆ … ┆ null    ┆ null ┆ null  ┆ No             │\n",
       "│ …         ┆ …      ┆ …    ┆ …   ┆ … ┆ …       ┆ …    ┆ …     ┆ …              │\n",
       "│ zuninmi01 ┆ 2022   ┆ AL   ┆ C   ┆ … ┆ null    ┆ null ┆ null  ┆ No             │\n",
       "│ zuninmi01 ┆ 2023   ┆ AL   ┆ C   ┆ … ┆ null    ┆ null ┆ null  ┆ No             │\n",
       "│ zychto01  ┆ 2015   ┆ AL   ┆ P   ┆ … ┆ null    ┆ null ┆ null  ┆ No             │\n",
       "│ zychto01  ┆ 2016   ┆ AL   ┆ P   ┆ … ┆ null    ┆ null ┆ null  ┆ No             │\n",
       "│ zychto01  ┆ 2017   ┆ AL   ┆ P   ┆ … ┆ null    ┆ null ┆ null  ┆ No             │\n",
       "└───────────┴────────┴──────┴─────┴───┴─────────┴──────┴───────┴────────────────┘"
      ]
     },
     "execution_count": 7,
     "metadata": {},
     "output_type": "execute_result"
    }
   ],
   "source": [
    "sorted_bball = join_bball.sort('playerID', 'yearID')\n",
    "sorted_bball"
   ]
  },
  {
   "cell_type": "code",
   "execution_count": 8,
   "id": "b5c04f65-79e7-4398-a7c6-b2ff9e0351e3",
   "metadata": {},
   "outputs": [
    {
     "data": {
      "text/html": [
       "<div><style>\n",
       ".dataframe > thead > tr,\n",
       ".dataframe > tbody > tr {\n",
       "  text-align: right;\n",
       "  white-space: pre-wrap;\n",
       "}\n",
       "</style>\n",
       "<small>shape: (21_482, 20)</small><table border=\"1\" class=\"dataframe\"><thead><tr><th>playerID</th><th>yearID</th><th>lgID</th><th>POS</th><th>Tot_G</th><th>Tot_GS</th><th>Tot_InnOuts</th><th>Tot_PO</th><th>Tot_A</th><th>Tot_E</th><th>Tot_DP</th><th>Tot_PB</th><th>Tot_WP</th><th>Tot_SB</th><th>Tot_CS</th><th>Tot_ZR</th><th>awardID</th><th>tie</th><th>Won Gold Glove</th><th>Training-Validation</th></tr><tr><td>str</td><td>i64</td><td>str</td><td>str</td><td>i64</td><td>i64</td><td>i64</td><td>i64</td><td>i64</td><td>i64</td><td>i64</td><td>str</td><td>str</td><td>str</td><td>str</td><td>str</td><td>str</td><td>str</td><td>str</td><td>str</td></tr></thead><tbody><tr><td>&quot;aardsda01&quot;</td><td>2013</td><td>&quot;NL&quot;</td><td>&quot;P&quot;</td><td>43</td><td>0</td><td>119</td><td>1</td><td>5</td><td>0</td><td>0</td><td>null</td><td>null</td><td>null</td><td>null</td><td>null</td><td>null</td><td>null</td><td>&quot;No&quot;</td><td>&quot;Training&quot;</td></tr><tr><td>&quot;aardsda01&quot;</td><td>2015</td><td>&quot;NL&quot;</td><td>&quot;P&quot;</td><td>33</td><td>0</td><td>92</td><td>0</td><td>1</td><td>1</td><td>0</td><td>null</td><td>null</td><td>null</td><td>null</td><td>null</td><td>null</td><td>null</td><td>&quot;No&quot;</td><td>&quot;Training&quot;</td></tr><tr><td>&quot;abadfe01&quot;</td><td>2013</td><td>&quot;NL&quot;</td><td>&quot;P&quot;</td><td>39</td><td>0</td><td>113</td><td>1</td><td>4</td><td>0</td><td>0</td><td>null</td><td>null</td><td>null</td><td>null</td><td>null</td><td>null</td><td>null</td><td>&quot;No&quot;</td><td>&quot;Training&quot;</td></tr><tr><td>&quot;abadfe01&quot;</td><td>2014</td><td>&quot;AL&quot;</td><td>&quot;P&quot;</td><td>69</td><td>0</td><td>172</td><td>0</td><td>8</td><td>0</td><td>0</td><td>null</td><td>null</td><td>null</td><td>null</td><td>null</td><td>null</td><td>null</td><td>&quot;No&quot;</td><td>&quot;Training&quot;</td></tr><tr><td>&quot;abadfe01&quot;</td><td>2015</td><td>&quot;AL&quot;</td><td>&quot;P&quot;</td><td>62</td><td>0</td><td>143</td><td>2</td><td>4</td><td>0</td><td>0</td><td>null</td><td>null</td><td>null</td><td>null</td><td>null</td><td>null</td><td>null</td><td>&quot;No&quot;</td><td>&quot;Training&quot;</td></tr><tr><td>&hellip;</td><td>&hellip;</td><td>&hellip;</td><td>&hellip;</td><td>&hellip;</td><td>&hellip;</td><td>&hellip;</td><td>&hellip;</td><td>&hellip;</td><td>&hellip;</td><td>&hellip;</td><td>&hellip;</td><td>&hellip;</td><td>&hellip;</td><td>&hellip;</td><td>&hellip;</td><td>&hellip;</td><td>&hellip;</td><td>&hellip;</td><td>&hellip;</td></tr><tr><td>&quot;zuninmi01&quot;</td><td>2022</td><td>&quot;AL&quot;</td><td>&quot;C&quot;</td><td>35</td><td>34</td><td>898</td><td>283</td><td>9</td><td>1</td><td>0</td><td>null</td><td>null</td><td>null</td><td>null</td><td>null</td><td>null</td><td>null</td><td>&quot;No&quot;</td><td>&quot;Training&quot;</td></tr><tr><td>&quot;zuninmi01&quot;</td><td>2023</td><td>&quot;AL&quot;</td><td>&quot;C&quot;</td><td>42</td><td>41</td><td>1019</td><td>276</td><td>17</td><td>3</td><td>2</td><td>null</td><td>null</td><td>null</td><td>null</td><td>null</td><td>null</td><td>null</td><td>&quot;No&quot;</td><td>&quot;Validation&quot;</td></tr><tr><td>&quot;zychto01&quot;</td><td>2015</td><td>&quot;AL&quot;</td><td>&quot;P&quot;</td><td>13</td><td>1</td><td>55</td><td>0</td><td>3</td><td>0</td><td>0</td><td>null</td><td>null</td><td>null</td><td>null</td><td>null</td><td>null</td><td>null</td><td>&quot;No&quot;</td><td>&quot;Training&quot;</td></tr><tr><td>&quot;zychto01&quot;</td><td>2016</td><td>&quot;AL&quot;</td><td>&quot;P&quot;</td><td>12</td><td>0</td><td>41</td><td>0</td><td>0</td><td>1</td><td>0</td><td>null</td><td>null</td><td>null</td><td>null</td><td>null</td><td>null</td><td>null</td><td>&quot;No&quot;</td><td>&quot;Training&quot;</td></tr><tr><td>&quot;zychto01&quot;</td><td>2017</td><td>&quot;AL&quot;</td><td>&quot;P&quot;</td><td>45</td><td>0</td><td>122</td><td>1</td><td>3</td><td>0</td><td>0</td><td>null</td><td>null</td><td>null</td><td>null</td><td>null</td><td>null</td><td>null</td><td>&quot;No&quot;</td><td>&quot;Training&quot;</td></tr></tbody></table></div>"
      ],
      "text/plain": [
       "shape: (21_482, 20)\n",
       "┌───────────┬────────┬──────┬─────┬───┬─────────┬──────┬────────────────┬─────────────────────┐\n",
       "│ playerID  ┆ yearID ┆ lgID ┆ POS ┆ … ┆ awardID ┆ tie  ┆ Won Gold Glove ┆ Training-Validation │\n",
       "│ ---       ┆ ---    ┆ ---  ┆ --- ┆   ┆ ---     ┆ ---  ┆ ---            ┆ ---                 │\n",
       "│ str       ┆ i64    ┆ str  ┆ str ┆   ┆ str     ┆ str  ┆ str            ┆ str                 │\n",
       "╞═══════════╪════════╪══════╪═════╪═══╪═════════╪══════╪════════════════╪═════════════════════╡\n",
       "│ aardsda01 ┆ 2013   ┆ NL   ┆ P   ┆ … ┆ null    ┆ null ┆ No             ┆ Training            │\n",
       "│ aardsda01 ┆ 2015   ┆ NL   ┆ P   ┆ … ┆ null    ┆ null ┆ No             ┆ Training            │\n",
       "│ abadfe01  ┆ 2013   ┆ NL   ┆ P   ┆ … ┆ null    ┆ null ┆ No             ┆ Training            │\n",
       "│ abadfe01  ┆ 2014   ┆ AL   ┆ P   ┆ … ┆ null    ┆ null ┆ No             ┆ Training            │\n",
       "│ abadfe01  ┆ 2015   ┆ AL   ┆ P   ┆ … ┆ null    ┆ null ┆ No             ┆ Training            │\n",
       "│ …         ┆ …      ┆ …    ┆ …   ┆ … ┆ …       ┆ …    ┆ …              ┆ …                   │\n",
       "│ zuninmi01 ┆ 2022   ┆ AL   ┆ C   ┆ … ┆ null    ┆ null ┆ No             ┆ Training            │\n",
       "│ zuninmi01 ┆ 2023   ┆ AL   ┆ C   ┆ … ┆ null    ┆ null ┆ No             ┆ Validation          │\n",
       "│ zychto01  ┆ 2015   ┆ AL   ┆ P   ┆ … ┆ null    ┆ null ┆ No             ┆ Training            │\n",
       "│ zychto01  ┆ 2016   ┆ AL   ┆ P   ┆ … ┆ null    ┆ null ┆ No             ┆ Training            │\n",
       "│ zychto01  ┆ 2017   ┆ AL   ┆ P   ┆ … ┆ null    ┆ null ┆ No             ┆ Training            │\n",
       "└───────────┴────────┴──────┴─────┴───┴─────────┴──────┴────────────────┴─────────────────────┘"
      ]
     },
     "execution_count": 8,
     "metadata": {},
     "output_type": "execute_result"
    }
   ],
   "source": [
    "bball = (sorted_bball\n",
    "         .with_columns(\n",
    "                    pl\n",
    "                    .when(pl.col('yearID') == 2023)\n",
    "                        .then(pl.lit('Validation'))\n",
    "                    .otherwise(pl.lit('Training'))\n",
    "                    .alias('Training-Validation')\n",
    "                )\n",
    "        )\n",
    "\n",
    "bball.drop(\"notes\")"
   ]
  },
  {
   "cell_type": "code",
   "execution_count": 9,
   "id": "118387ec-36a0-4bd7-8583-2516cf130cdf",
   "metadata": {},
   "outputs": [],
   "source": [
    "bball.write_csv('./Data/Gold_Golve_Bball.csv', separator=\",\")"
   ]
  }
 ],
 "metadata": {
  "kernelspec": {
   "display_name": "Python 3 (ipykernel)",
   "language": "python",
   "name": "python3"
  },
  "language_info": {
   "codemirror_mode": {
    "name": "ipython",
    "version": 3
   },
   "file_extension": ".py",
   "mimetype": "text/x-python",
   "name": "python",
   "nbconvert_exporter": "python",
   "pygments_lexer": "ipython3",
   "version": "3.12.5"
  }
 },
 "nbformat": 4,
 "nbformat_minor": 5
}
